{
 "cells": [
  {
   "cell_type": "markdown",
   "id": "dutch-redhead",
   "metadata": {},
   "source": [
    "Analyse voor PEC Zwolle\n",
    "\n",
    "auteurs: [bewerk de Markdown-cel en vul hier de namen in]\n",
    "\n",
    "# Business understanding\n",
    "Vraag van de opdrachtgever: [vul aan]"
   ]
  },
  {
   "cell_type": "markdown",
   "id": "built-sterling",
   "metadata": {},
   "source": [
    "# Data understanding\n",
    "We geven een toelichting op de beschikbare databronnen en hoe we die benaderen - initial data collection. Daarna wordt de data kort beschreven en verkend - data desciption en data exploration. "
   ]
  },
  {
   "cell_type": "markdown",
   "id": "derived-durham",
   "metadata": {},
   "source": [
    "## Initial data collection\n",
    "[Hergebruik de uitwerkingen van opdracht 1 en 2. Maak een keuze voor het package dat je gebruikt om connectie te maken. Kies je voor het SQLalchemy of voor het SQLite3 package? Schrijf je keuze zo op dat je collega's de onderbouwing ook snappen.]"
   ]
  },
  {
   "cell_type": "code",
   "execution_count": 3,
   "id": "colonial-canyon",
   "metadata": {},
   "outputs": [],
   "source": [
    "# maak connectie met de databron"
   ]
  },
  {
   "cell_type": "markdown",
   "id": "touched-heath",
   "metadata": {},
   "source": [
    "[werk het notebook verder uit. Gebruik de stappen uit CRISP-DM als titels voor de hoofdstukken (gebruik hiervoor #) en subhoofdstukken (##)]"
   ]
  }
 ],
 "metadata": {
  "kernelspec": {
   "display_name": "Python 3",
   "language": "python",
   "name": "python3"
  },
  "language_info": {
   "codemirror_mode": {
    "name": "ipython",
    "version": 3
   },
   "file_extension": ".py",
   "mimetype": "text/x-python",
   "name": "python",
   "nbconvert_exporter": "python",
   "pygments_lexer": "ipython3",
   "version": "3.9.0"
  },
  "toc": {
   "base_numbering": 1,
   "nav_menu": {},
   "number_sections": true,
   "sideBar": true,
   "skip_h1_title": false,
   "title_cell": "Table of Contents",
   "title_sidebar": "Contents",
   "toc_cell": false,
   "toc_position": {},
   "toc_section_display": true,
   "toc_window_display": false
  }
 },
 "nbformat": 4,
 "nbformat_minor": 5
}
